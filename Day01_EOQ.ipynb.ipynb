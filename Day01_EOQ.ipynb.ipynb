{
 "cells": [
  {
   "cell_type": "code",
   "execution_count": 12,
   "id": "ebee1989-fe60-4cf3-9cff-cd521c3b5633",
   "metadata": {},
   "outputs": [
    {
     "name": "stdout",
     "output_type": "stream",
     "text": [
      "Economic Order Quantity (EOQ): 894.43 units\n"
     ]
    }
   ],
   "source": [
    "import math  # import math library for square root\n",
    "\n",
    "# Inputs\n",
    "D = 10000   # Annual demand (units)\n",
    "S = 200     # Ordering cost ($/order)\n",
    "H = 5       # Holding cost ($/unit/year)\n",
    "\n",
    "# EOQ formula\n",
    "EOQ = math.sqrt((2 * D * S) / H)\n",
    "\n",
    "# Output\n",
    "print(f\"Economic Order Quantity (EOQ): {EOQ:.2f} units\")\n"
   ]
  },
  {
   "cell_type": "code",
   "execution_count": 13,
   "id": "f6e599a8-06ff-4711-b72a-c9997284decd",
   "metadata": {},
   "outputs": [
    {
     "name": "stdout",
     "output_type": "stream",
     "text": [
      "Economic Order Quantity (EOQ): 1095.45 units\n"
     ]
    }
   ],
   "source": [
    "import math  # import math library for square root\n",
    "\n",
    "# Inputs\n",
    "D = 15000   # Annual demand (units)\n",
    "S = 200     # Ordering cost ($/order)\n",
    "H = 5       # Holding cost ($/unit/year)\n",
    "\n",
    "# EOQ formula\n",
    "EOQ = math.sqrt((2 * D * S) / H)\n",
    "\n",
    "# Output\n",
    "print(f\"Economic Order Quantity (EOQ): {EOQ:.2f} units\")\n"
   ]
  },
  {
   "cell_type": "code",
   "execution_count": null,
   "id": "7c5fdea6-0757-4372-acba-3ad5042bca45",
   "metadata": {},
   "outputs": [],
   "source": [
    "import math  # import math library for square root\n",
    "\n",
    "# Inputs\n",
    "D = 10000   # Annual demand (units)\n",
    "S = 200     # Ordering cost ($/order)\n",
    "H = 10 # Holding cost ($/unit/year)\n",
    "\n",
    "# EOQ formula\n",
    "EOQ = math.sqrt((2 * D * S) / H)\n",
    "\n",
    "# Output\n",
    "print(f\"Economic Order Quantity (EOQ): {EOQ:.2f} units\")\n"
   ]
  },
  {
   "cell_type": "code",
   "execution_count": null,
   "id": "df3aacce-ee88-477b-82b3-7264b454254f",
   "metadata": {},
   "outputs": [],
   "source": [
    "import math  # import math library for square root\n",
    "\n",
    "# Inputs\n",
    "D = 12000   # Annual demand (units)\n",
    "S = 250     # Ordering cost ($/order)\n",
    "H = 8       # Holding cost ($/unit/year)\n",
    "\n",
    "# EOQ formula\n",
    "EOQ = math.sqrt((2 * D * S) / H)\n",
    "\n",
    "# Output\n",
    "print(f\"Economic Order Quantity (EOQ): {EOQ:.2f} units\")\n"
   ]
  },
  {
   "cell_type": "markdown",
   "id": "b150e3a6-7e5e-47f3-829c-98035c9586bb",
   "metadata": {},
   "source": []
  }
 ],
 "metadata": {
  "kernelspec": {
   "display_name": "Python 3 (ipykernel)",
   "language": "python",
   "name": "python3"
  },
  "language_info": {
   "codemirror_mode": {
    "name": "ipython",
    "version": 3
   },
   "file_extension": ".py",
   "mimetype": "text/x-python",
   "name": "python",
   "nbconvert_exporter": "python",
   "pygments_lexer": "ipython3",
   "version": "3.13.5"
  }
 },
 "nbformat": 4,
 "nbformat_minor": 5
}
