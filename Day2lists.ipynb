{
 "cells": [
  {
   "cell_type": "code",
   "execution_count": 4,
   "id": "2b03a680-3735-4aea-bcb9-17c9619d6955",
   "metadata": {},
   "outputs": [
    {
     "name": "stdout",
     "output_type": "stream",
     "text": [
      "week 1 demand: 120\n",
      "week 2 demand: 0\n",
      "total weeks : 12\n"
     ]
    }
   ],
   "source": [
    "# A list stores multiple values in order\n",
    "weekly_demand = [120, 150, 100, 90, 0, 140,160, 0, 130, 170, 200,0]\n",
    "print(\"week 1 demand:\", weekly_demand[0]) #index 0 = first element\n",
    "print(\"week 2 demand:\", weekly_demand[4]) #index 4 = fisth element\n",
    "print(\"total weeks :\", len(weekly_demand)) #Length of list"
   ]
  },
  {
   "cell_type": "code",
   "execution_count": 9,
   "id": "44ae8a42-87a7-45e7-9c93-6faecec48438",
   "metadata": {},
   "outputs": [
    {
     "name": "stdout",
     "output_type": "stream",
     "text": [
      "Total demand over 12 weeks 1260\n"
     ]
    }
   ],
   "source": [
    "#Calculate total demand using a loop\n",
    "total_demand = 0\n",
    "for demand in weekly_demand:\n",
    "    total_demand += demand\n",
    "\n",
    "print(\"Total demand over 12 weeks\", total_demand)"
   ]
  },
  {
   "cell_type": "code",
   "execution_count": 13,
   "id": "7cff5f12-26f1-4b60-bff7-5430e100f975",
   "metadata": {},
   "outputs": [
    {
     "name": "stdout",
     "output_type": "stream",
     "text": [
      "Stockout happend in weeks: [5, 8, 12]\n",
      "Total stockout weeks: 3\n"
     ]
    }
   ],
   "source": [
    "stockout_weeks = []\n",
    "for weeks, demand in enumerate(weekly_demand, start = 1):\n",
    "    if demand == 0:\n",
    "        stockout_weeks.append(weeks)\n",
    "\n",
    "print(\"Stockout happend in weeks:\", stockout_weeks)\n",
    "print(\"Total stockout weeks:\", len(stockout_weeks))\n"
   ]
  },
  {
   "cell_type": "code",
   "execution_count": 16,
   "id": "4774ea03-4e46-4ce2-a4d9-be5d6c45ecc5",
   "metadata": {},
   "outputs": [
    {
     "name": "stdout",
     "output_type": "stream",
     "text": [
      "total demand over 12 weeks 1350\n"
     ]
    }
   ],
   "source": [
    "weekly_demand = [100,120,130,140,150,0,0,160,170,0,180,200]\n",
    "total_demand = 0\n",
    "for demand in weekly_demand:\n",
    "    total_demand += demand\n",
    "print(\"total demand over 12 weeks\", total_demand)"
   ]
  },
  {
   "cell_type": "code",
   "execution_count": 18,
   "id": "0858554e-c846-47c3-967c-0c46108c7b78",
   "metadata": {},
   "outputs": [
    {
     "name": "stdout",
     "output_type": "stream",
     "text": [
      "stockout happened in weeks: [6, 7, 10]\n",
      "total stockout weeks: 3\n"
     ]
    }
   ],
   "source": [
    "stockout_weeks = []\n",
    "for weeks, demand in enumerate(weekly_demand, start = 1):\n",
    "    if demand == 0:\n",
    "        stockout_weeks.append(weeks)\n",
    "\n",
    "print(\"stockout happened in weeks:\", stockout_weeks)\n",
    "print(\"total stockout weeks:\", len(stockout_weeks))"
   ]
  },
  {
   "cell_type": "code",
   "execution_count": null,
   "id": "46842b15-635c-4a17-b82d-15cf949f41de",
   "metadata": {},
   "outputs": [],
   "source": []
  }
 ],
 "metadata": {
  "kernelspec": {
   "display_name": "Python 3 (ipykernel)",
   "language": "python",
   "name": "python3"
  },
  "language_info": {
   "codemirror_mode": {
    "name": "ipython",
    "version": 3
   },
   "file_extension": ".py",
   "mimetype": "text/x-python",
   "name": "python",
   "nbconvert_exporter": "python",
   "pygments_lexer": "ipython3",
   "version": "3.13.5"
  }
 },
 "nbformat": 4,
 "nbformat_minor": 5
}
