{
 "cells": [
  {
   "cell_type": "code",
   "execution_count": 6,
   "id": "634ba403-77a8-46c2-ae90-a7c70de2d5ef",
   "metadata": {},
   "outputs": [
    {
     "name": "stdout",
     "output_type": "stream",
     "text": [
      "!Reorder Require! Stock is too low.\n"
     ]
    }
   ],
   "source": [
    "stock = 150\n",
    "safety_stock = 200\n",
    "\n",
    "if stock < safety_stock:\n",
    "    print(\"!Reorder Require! Stock is too low.\")\n",
    "else:\n",
    "    print(\"Stock is sufficient.\")"
   ]
  },
  {
   "cell_type": "code",
   "execution_count": 1,
   "id": "0c8a4a99-0581-4e95-81d6-fbf95d272f61",
   "metadata": {},
   "outputs": [
    {
     "name": "stdout",
     "output_type": "stream",
     "text": [
      "Reorder required. Current stock: 250\n"
     ]
    }
   ],
   "source": [
    "stock = 250\n",
    "ROP = 300\n",
    "\n",
    "if stock < ROP:\n",
    "    print(\"Reorder required. Current stock:\", stock)\n",
    "else:\n",
    "    print(\"Stock is above ROP. No action needed.\")"
   ]
  },
  {
   "cell_type": "code",
   "execution_count": 15,
   "id": "aa4e4239-a548-49fb-a3e7-440c7d3154fc",
   "metadata": {},
   "outputs": [
    {
     "name": "stdout",
     "output_type": "stream",
     "text": [
      "week 1 : Stock is sufficient(stock = 600)\n",
      "week 2 : Stock is sufficient(stock = 550)\n",
      "week 3 : Stock is sufficient(stock = 480)\n",
      "week 4 : Stock is sufficient(stock = 350)\n",
      "week 5 : Reorder Required(stock = 280)\n",
      "week 6 : Reorder Required(stock = 260)\n",
      "week 7 : Stock is sufficient(stock = 400)\n"
     ]
    }
   ],
   "source": [
    "weekly_stock = [600,550,480,350,280,260,400]\n",
    "ROP = 300\n",
    "for week, stock in enumerate(weekly_stock, start= 1):\n",
    "    if stock < ROP:\n",
    "        print(f\"week {week} : Reorder Required(stock = {stock})\")\n",
    "    else:\n",
    "        print(f\"week {week} : Stock is sufficient(stock = {stock})\")"
   ]
  },
  {
   "cell_type": "code",
   "execution_count": 17,
   "id": "7bd47c7f-d395-404b-a44c-1c378dc98f7d",
   "metadata": {},
   "outputs": [
    {
     "name": "stdout",
     "output_type": "stream",
     "text": [
      "week 1 : Demand fulfilled (200 units)\n",
      "week 2 : Demand fulfilled (200 units)\n",
      "week 3 : Demand fulfilled (200 units)\n",
      "week 4 : Demand fulfilled (200 units)\n",
      "week 5 : Demand fulfilled (200 units)\n",
      "week 6 : Demand fulfilled (200 units)\n",
      "week 7 : Demand fulfilled (200 units)\n"
     ]
    }
   ],
   "source": [
    "weekly_demand = [120,0,150,130,0,140,200]\n",
    "\n",
    "for week, Demand in enumerate(weekly_demand, start=1):\n",
    "    if demand == 0:\n",
    "        print(f\"week {week} : Stockout occured\")\n",
    "    else:\n",
    "        print(f\"week {week} : Demand fulfilled ({demand} units)\")"
   ]
  },
  {
   "cell_type": "code",
   "execution_count": 18,
   "id": "2f993487-dd73-4485-b2e0-8d2bdd607a9a",
   "metadata": {},
   "outputs": [
    {
     "name": "stdout",
     "output_type": "stream",
     "text": [
      " Backorder created. Units missing: 50\n"
     ]
    }
   ],
   "source": [
    "customer_order = 200\n",
    "available_stock = 150\n",
    "\n",
    "if available_stock < customer_order:\n",
    "    print(\" Backorder created. Units missing:\", customer_order - available_stock)\n",
    "else:\n",
    "    print(\" Order fulfilled completely.\")\n"
   ]
  },
  {
   "cell_type": "code",
   "execution_count": 19,
   "id": "0119a80b-f74d-4efc-90c6-6cf7f689f254",
   "metadata": {},
   "outputs": [
    {
     "name": "stdout",
     "output_type": "stream",
     "text": [
      "Service Level Calculator\n"
     ]
    },
    {
     "name": "stdin",
     "output_type": "stream",
     "text": [
      "Total weeks (e.g., 12):  12\n",
      "Stockout weeks (e.g., 2):  2\n",
      "Target service level % (e.g., 95):  95\n"
     ]
    },
    {
     "name": "stdout",
     "output_type": "stream",
     "text": [
      "⚠️ Service level below target. Current: 83.33% (target: 95.0%)\n"
     ]
    }
   ],
   "source": [
    "# file: service_level_intro.py\n",
    "\n",
    "def compute_service_level(total_weeks: float, stockout_weeks: float) -> float:\n",
    "    \"\"\"Return service level as a fraction in [0,1]. Raises on invalid inputs (why: avoid silently wrong KPIs).\"\"\"\n",
    "    if total_weeks <= 0:\n",
    "        raise ValueError(\"total_weeks must be > 0.\")\n",
    "    if not (0 <= stockout_weeks <= total_weeks):\n",
    "        raise ValueError(\"stockout_weeks must be between 0 and total_weeks.\")\n",
    "    return (total_weeks - stockout_weeks) / total_weeks\n",
    "\n",
    "def main() -> None:\n",
    "    print(\"Service Level Calculator\")\n",
    "    # Keep inputs simple for beginners; we loop until valid (why: faster feedback).\n",
    "    while True:\n",
    "        try:\n",
    "            weeks = float(input(\"Total weeks (e.g., 12): \").strip())\n",
    "            stockout_weeks = float(input(\"Stockout weeks (e.g., 2): \").strip())\n",
    "            target_percent = float(input(\"Target service level % (e.g., 95): \").strip())\n",
    "            if not (0 <= target_percent <= 100):\n",
    "                raise ValueError(\"Target percent must be between 0 and 100.\")\n",
    "            target = target_percent / 100.0\n",
    "            level = compute_service_level(weeks, stockout_weeks)\n",
    "            current_percent = round(level * 100, 2)\n",
    "            target_percent = round(target * 100, 2)\n",
    "            if level < target:\n",
    "                print(f\"⚠️ Service level below target. Current: {current_percent}% (target: {target_percent}%)\")\n",
    "            else:\n",
    "                print(f\"✅ Service level achieved: {current_percent}% (target: {target_percent}%)\")\n",
    "            break\n",
    "        except ValueError as err:\n",
    "            print(f\"Input error: {err}. Please try again.\\n\")\n",
    "\n",
    "if __name__ == \"__main__\":\n",
    "    main()\n"
   ]
  },
  {
   "cell_type": "code",
   "execution_count": null,
   "id": "e6e812e2-7695-406a-aa4f-5f488ef47035",
   "metadata": {},
   "outputs": [],
   "source": []
  }
 ],
 "metadata": {
  "kernelspec": {
   "display_name": "Python 3 (ipykernel)",
   "language": "python",
   "name": "python3"
  },
  "language_info": {
   "codemirror_mode": {
    "name": "ipython",
    "version": 3
   },
   "file_extension": ".py",
   "mimetype": "text/x-python",
   "name": "python",
   "nbconvert_exporter": "python",
   "pygments_lexer": "ipython3",
   "version": "3.13.5"
  }
 },
 "nbformat": 4,
 "nbformat_minor": 5
}
